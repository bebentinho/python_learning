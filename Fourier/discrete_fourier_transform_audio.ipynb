{
 "cells": [
  {
   "cell_type": "code",
   "execution_count": 1,
   "metadata": {},
   "outputs": [],
   "source": [
    "import numpy as np\n",
    "import matplotlib.pyplot as plt\n",
    "from pydub import AudioSegment"
   ]
  },
  {
   "cell_type": "code",
   "execution_count": 2,
   "metadata": {},
   "outputs": [],
   "source": [
    "audio = AudioSegment.from_file(fr\"cal_numerico_trab_03_audio_01.m4a\", format=\"m4a\")"
   ]
  },
  {
   "cell_type": "code",
   "execution_count": 3,
   "metadata": {},
   "outputs": [
    {
     "name": "stdout",
     "output_type": "stream",
     "text": [
      "Channels: 1\n",
      "Sample width: 2\n",
      "Frame rate (sample rate): 48000\n",
      "Frame width: 2\n",
      "Length (ms): 3051\n",
      "Frame count: 146432.0\n",
      "Intensity: -34.76046225140812\n"
     ]
    }
   ],
   "source": [
    "# Printando atributos\n",
    "print(f\"Channels: {audio.channels}\")\n",
    "print(f\"Sample width: {audio.sample_width}\")\n",
    "print(f\"Frame rate (sample rate): {audio.frame_rate}\")\n",
    "print(f\"Frame width: {audio.frame_width}\")\n",
    "print(f\"Length (ms): {len(audio)}\")\n",
    "print(f\"Frame count: {audio.frame_count()}\")\n",
    "print(f\"Intensity: {audio.dBFS}\")"
   ]
  },
  {
   "cell_type": "code",
   "execution_count": null,
   "metadata": {},
   "outputs": [],
   "source": [
    "#Extraindo dados do audio\n",
    "\n",
    "audio = audio[500:1500] #Selecionando apenas 1s do audio\n",
    "freq = audio.frame_rate\n",
    "dt = 1000/freq #Tamanho dos segmentos em ms\n",
    "tempo = len(audio) #Tempo total, em ms\n",
    "\n",
    "samples = audio.get_array_of_samples()\n",
    "\n",
    "#Criando array com pontos (instante, intensidade)\n",
    "pontos = np.zeros((len(samples),2))\n",
    "pontos[:,1] = samples\n",
    "for i in range(len(samples)):\n",
    "    pontos[i,0] = i*dt\n",
    "\n",
    "n = int(input(\"Escreva o valor de n: \")\n",
    "\n",
    "#Calculando A[0,0], b[0] e x[0]\n",
    "A = [len(pontos)]\n",
    "b = [np.sum(pontos, axis = 0)[1]]\n",
    "\n",
    "#Calculando A[i,i] e b[i]\n",
    "doispi_t = 2 * np.pi / tempo\n",
    "#for comeca no 1 pois o termo 0 ja foi calculado\n",
    "for i in range(1, n+1):\n",
    "    resultadocos,resultadosin = 0,0\n",
    "    resultado_bcos,resultado_bsin = 0,0\n",
    "\n",
    "    #Somente um for e necessario para calcular todos os valores!\n",
    "    for instante in pontos:\n",
    "        resultadosin += (np.sin(i * doispi_t * instante[0] ))**2\n",
    "        resultadocos += (np.cos(i * doispi_t * instante[0] ))**2\n",
    "        resultado_bsin += instante[1] * (np.sin(i * doispi_t * instante[0] ))\n",
    "        resultado_bcos += instante[1] * (np.cos(i * doispi_t * instante[0] ))\n",
    "\n",
    "    #Note que os senos ocupam n impares e os cossenos ocupam n pares\n",
    "    A += [resultadosin]\n",
    "    A += [resultadocos]\n",
    "    b += [resultado_bsin]\n",
    "    b += [resultado_bcos]\n",
    "\n",
    "#Transformando listas em arrays para calcular x\n",
    "Aaux = np.zeros((2*n+1, 2*n+1))\n",
    "np.fill_diagonal(Aaux,A)\n",
    "b = np.array(b)\n",
    "x = np.linalg.solve(Aaux,b)\n",
    "\n",
    "#Criando |a_n + b_n| que sera plotado\n",
    "vetx = [x[0]] + [abs(x[i]+x[i+1]) for i in range(1, 2*n + 1, 2)]\n",
    "\n",
    "#Escrevendo x num arquivo txt\n",
    "file = open(fr\"vetor_x.txt\", \"x\")\n",
    "for i in vetx:\n",
    "    file.write(str(i) + \"\\n\")\n",
    "file.close()\n",
    "\n",
    "#Plotando grafico |a_n + b_n| vs. n\n",
    "plt.rc('text', usetex=True)\n",
    "plt.rc('font', family='serif')\n",
    "plt.title(r\"$F(x) = \\displaystyle\\sum_{n=0}^\\infty a_n \\cos \\left(\\frac{2 \\pi}{T} n x \\right)$\"\n",
    "            r\"$\\displaystyle + b_n \\sin \\left(\\frac{2 \\pi}{T} n x \\right)$, $T=1s$, n=\" f\"{n}\",\n",
    "            fontsize=12)\n",
    "\n",
    "plt.xlabel(\"n\", fontsize=12)\n",
    "plt.ylabel(r\"$|a_n + b_n|$\", fontsize=12)\n",
    "plt.plot(np.arange(0, n+1, 1), vetx, color = \"teal\")\n",
    "\n",
    "plt.show()"
   ]
  }
 ],
 "metadata": {
  "kernelspec": {
   "display_name": ".venv",
   "language": "python",
   "name": "python3"
  },
  "language_info": {
   "codemirror_mode": {
    "name": "ipython",
    "version": 3
   },
   "file_extension": ".py",
   "mimetype": "text/x-python",
   "name": "python",
   "nbconvert_exporter": "python",
   "pygments_lexer": "ipython3",
   "version": "3.10.9"
  },
  "orig_nbformat": 4
 },
 "nbformat": 4,
 "nbformat_minor": 2
}
